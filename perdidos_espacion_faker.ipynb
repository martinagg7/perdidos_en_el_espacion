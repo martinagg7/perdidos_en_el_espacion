{
 "cells": [
  {
   "cell_type": "code",
   "execution_count": 79,
   "id": "8b060210",
   "metadata": {},
   "outputs": [],
   "source": [
    "import faker as fk\n",
    "import random as rd\n",
    "import csv\n",
    "import math\n",
    "import random\n",
    "import numpy as np\n",
    "import matplotlib.pyplot as plt\n",
    "import seaborn as sns\n",
    "import pandas as pd"
   ]
  },
  {
   "cell_type": "markdown",
   "id": "cb1dd170",
   "metadata": {},
   "source": [
    "## Planteamiento con biblioteca faker"
   ]
  },
  {
   "cell_type": "markdown",
   "id": "26c612a9",
   "metadata": {},
   "source": [
    "Vamos a inventarnos mediante la biblioteca faker mil datos para introducir en nuestro dataset.Este contendrá las siguientes columnas\n",
    "\n",
    "•\tL:longitud\n",
    "\n",
    "•\tT:tiempo de caida\n",
    "\n",
    "•\tG:gravedad\n",
    "\n",
    "Esta será la formula 2L/(T^2) que emplearemos para calcular cada valor de la gravedad.Además añadiremos tambien ,tres columnas que nos indicaran los tres planetas más probabables en los que nos podemos encontrar en función de la gravedad de cada dato.Y por último una columna con el error que hemos cometido en cada medición de la gravedad"
   ]
  },
  {
   "cell_type": "markdown",
   "id": "0794d18b",
   "metadata": {},
   "source": [
    "𝘦𝘹𝘱𝘦𝘳𝘪𝘮𝘦𝘯𝘵𝘰𝘴 𝘳𝘦𝘢𝘭𝘪𝘻𝘢𝘥𝘰𝘴"
   ]
  },
  {
   "cell_type": "code",
   "execution_count": 60,
   "id": "d9c9d4be",
   "metadata": {},
   "outputs": [],
   "source": [
    "planetas_gravedad = {\n",
    "    \"Tierra\": 9.8,\n",
    "    \"Marte\": 3.7,\n",
    "    \"Júpiter\": 24.8,\n",
    "    \"Saturno\": 9.0,\n",
    "    \"Urano\": 8.7,\n",
    "    \"Neptuno\": 11.0\n",
    "}"
   ]
  },
  {
   "cell_type": "markdown",
   "id": "3931a9eb",
   "metadata": {},
   "source": [
    "con los experimentos que hemos llevado acabo obtenemos los siguientes resultados"
   ]
  },
  {
   "cell_type": "code",
   "execution_count": 64,
   "id": "15da95ef",
   "metadata": {},
   "outputs": [
    {
     "name": "stdout",
     "output_type": "stream",
     "text": [
      "La gravedad en el primer caso es  9.45\n"
     ]
    }
   ],
   "source": [
    "#experimento a\n",
    "l1=1.00\n",
    "t1=0.46\n",
    "g1=round(2*(l1)/(t1**2),2)\n",
    "print(\"La gravedad en el primer caso es \",g1)"
   ]
  },
  {
   "cell_type": "code",
   "execution_count": 68,
   "id": "0efcffb0",
   "metadata": {},
   "outputs": [
    {
     "name": "stdout",
     "output_type": "stream",
     "text": [
      "La gravedad en el segundo  caso es  9.18\n"
     ]
    }
   ],
   "source": [
    "#experimento b\n",
    "l2=2.00\n",
    "t2=0.66\n",
    "g2=round(2*(l2)/(t2**2),2)\n",
    "print(\"La gravedad en el segundo  caso es \",g2)"
   ]
  },
  {
   "cell_type": "markdown",
   "id": "ccc8c421",
   "metadata": {},
   "source": [
    "Sin embargo sabemos que estos cálculos no son precisos porque instrumento de 10 mm para la cinta milimetrada y de 10 milésimas de segundo para el cronómetro.Para calcular los errores de las mediciones tendremos que calcular el error absoluto y relativo para cada medición.Luego mediante la siguiente fórmula calcular error que hemos cometido en el cálculo de la gravedad.\n",
    "Δg = |dg/dL * ΔL| + |dg/dt * Δt|\n",
    "\n",
    "Donde:\n",
    "dg/dL = Derivada parcial de g respecto a L = 2 / t^2\n",
    "dg/dt = Derivada parcial de g respecto a t = -4L / t^3"
   ]
  },
  {
   "cell_type": "code",
   "execution_count": 69,
   "id": "8160e864",
   "metadata": {},
   "outputs": [],
   "source": [
    "def calcular_error_gravedad(l, t, delta_l, delta_t):\n",
    "    dg_dL = 2 / (t**2)\n",
    "    dg_dt = (-4 * l) / (t**3)\n",
    "    \n",
    "    error_gravedad = abs(dg_dL * delta_l) + abs(dg_dt * delta_t)\n",
    "    return error_gravedad"
   ]
  },
  {
   "cell_type": "code",
   "execution_count": 71,
   "id": "da64c22a",
   "metadata": {},
   "outputs": [
    {
     "name": "stdout",
     "output_type": "stream",
     "text": [
      "El error  en la gravedad para el experimento A es  0.5054656036820908\n",
      "El error  en la gravedad para el experimento B es  0.32417842335197705\n"
     ]
    }
   ],
   "source": [
    "# Experimento A\n",
    "l1 = 1.00\n",
    "t1 = 0.46\n",
    "delta_l = 0.01\n",
    "delta_t = 0.010\n",
    "error_gravedad_1 = calcular_error_gravedad(l1, t1, delta_l, delta_t)\n",
    "\n",
    "# Experimento B\n",
    "l2 = 2.00\n",
    "t2 = 0.66\n",
    "error_gravedad_2 = calcular_error_gravedad(l2, t2, delta_l, delta_t)\n",
    "\n",
    "print(\"El error  en la gravedad para el experimento A es \",error_gravedad_1)\n",
    "print(\"El error  en la gravedad para el experimento B es \",error_gravedad_2)\n"
   ]
  },
  {
   "cell_type": "markdown",
   "id": "4ff2599b",
   "metadata": {},
   "source": [
    "ahora con estos datos que tenemos vamos a inventarnos a traves de la biblioteca faker otros mil más que añadiremos posteriormente al csv"
   ]
  },
  {
   "cell_type": "code",
   "execution_count": 75,
   "id": "409643f0",
   "metadata": {},
   "outputs": [
    {
     "data": {
      "text/html": [
       "<div>\n",
       "<style scoped>\n",
       "    .dataframe tbody tr th:only-of-type {\n",
       "        vertical-align: middle;\n",
       "    }\n",
       "\n",
       "    .dataframe tbody tr th {\n",
       "        vertical-align: top;\n",
       "    }\n",
       "\n",
       "    .dataframe thead th {\n",
       "        text-align: right;\n",
       "    }\n",
       "</style>\n",
       "<table border=\"1\" class=\"dataframe\">\n",
       "  <thead>\n",
       "    <tr style=\"text-align: right;\">\n",
       "      <th></th>\n",
       "      <th>L</th>\n",
       "      <th>T</th>\n",
       "      <th>G</th>\n",
       "      <th>Error</th>\n",
       "      <th>1º Planeta + Probable</th>\n",
       "      <th>2º Planeta + Probable</th>\n",
       "      <th>3º Planeta + Probable</th>\n",
       "    </tr>\n",
       "  </thead>\n",
       "  <tbody>\n",
       "    <tr>\n",
       "      <th>0</th>\n",
       "      <td>1.0</td>\n",
       "      <td>0.46</td>\n",
       "      <td>9.45</td>\n",
       "      <td>0.505</td>\n",
       "      <td>Tierra</td>\n",
       "      <td>Saturno</td>\n",
       "      <td>Urano</td>\n",
       "    </tr>\n",
       "    <tr>\n",
       "      <th>1</th>\n",
       "      <td>2.0</td>\n",
       "      <td>0.66</td>\n",
       "      <td>9.18</td>\n",
       "      <td>0.324</td>\n",
       "      <td>Saturno</td>\n",
       "      <td>Urano</td>\n",
       "      <td>Tierra</td>\n",
       "    </tr>\n",
       "  </tbody>\n",
       "</table>\n",
       "</div>"
      ],
      "text/plain": [
       "     L     T     G  Error 1º Planeta + Probable 2º Planeta + Probable  \\\n",
       "0  1.0  0.46  9.45  0.505                Tierra               Saturno   \n",
       "1  2.0  0.66  9.18  0.324               Saturno                 Urano   \n",
       "\n",
       "  3º Planeta + Probable  \n",
       "0                 Urano  \n",
       "1                Tierra  "
      ]
     },
     "execution_count": 75,
     "metadata": {},
     "output_type": "execute_result"
    }
   ],
   "source": [
    "def planetas_mas_probables(gravedad, planetas_gravedad, n=3):\n",
    "    diferencias = {planeta: abs(gravedad - gravedad_planeta) for planeta, gravedad_planeta in planetas_gravedad.items()}\n",
    "    planetas_ordenados = sorted(diferencias.items(), key=lambda x: x[1])\n",
    "    return [planeta for planeta, diferencia in planetas_ordenados[:n]]\n",
    "\n",
    "experimentos = [\n",
    "    {\"L\": 1.00, \"T\": 0.46, \"G\": 9.45, \"Error\": 0.505},\n",
    "    {\"L\": 2.00, \"T\": 0.66, \"G\": 9.18, \"Error\": 0.324}\n",
    "]\n",
    "\n",
    "\n",
    "for experimento in experimentos:\n",
    "    planetas_probables = planetas_mas_probables(experimento[\"G\"], planetas_gravedad)\n",
    "    for i, planeta in enumerate(planetas_probables, 1):\n",
    "        experimento[f\"{i}º Planeta + Probable\"] = planeta\n",
    "\n",
    "\n",
    "df = pd.DataFrame(experimentos)\n",
    "\n",
    "df"
   ]
  },
  {
   "cell_type": "markdown",
   "id": "27989311",
   "metadata": {},
   "source": [
    "## Dataset"
   ]
  },
  {
   "cell_type": "code",
   "execution_count": 100,
   "id": "3aa770c4",
   "metadata": {},
   "outputs": [
    {
     "data": {
      "text/html": [
       "<div>\n",
       "<style scoped>\n",
       "    .dataframe tbody tr th:only-of-type {\n",
       "        vertical-align: middle;\n",
       "    }\n",
       "\n",
       "    .dataframe tbody tr th {\n",
       "        vertical-align: top;\n",
       "    }\n",
       "\n",
       "    .dataframe thead th {\n",
       "        text-align: right;\n",
       "    }\n",
       "</style>\n",
       "<table border=\"1\" class=\"dataframe\">\n",
       "  <thead>\n",
       "    <tr style=\"text-align: right;\">\n",
       "      <th></th>\n",
       "      <th>Longitud (m)</th>\n",
       "      <th>Tiempo (s)</th>\n",
       "      <th>Gravedad (m/s^2)</th>\n",
       "      <th>Error Gravedad (m/s^2)</th>\n",
       "      <th>1º Planeta + Probable</th>\n",
       "      <th>2º Planeta + Probable</th>\n",
       "      <th>3º Planeta + Probable</th>\n",
       "    </tr>\n",
       "  </thead>\n",
       "  <tbody>\n",
       "    <tr>\n",
       "      <th>0</th>\n",
       "      <td>0.97</td>\n",
       "      <td>0.54</td>\n",
       "      <td>6.65</td>\n",
       "      <td>0.314993</td>\n",
       "      <td>Urano</td>\n",
       "      <td>Saturno</td>\n",
       "      <td>Marte</td>\n",
       "    </tr>\n",
       "    <tr>\n",
       "      <th>1</th>\n",
       "      <td>0.95</td>\n",
       "      <td>0.49</td>\n",
       "      <td>7.91</td>\n",
       "      <td>0.406293</td>\n",
       "      <td>Urano</td>\n",
       "      <td>Saturno</td>\n",
       "      <td>Tierra</td>\n",
       "    </tr>\n",
       "    <tr>\n",
       "      <th>2</th>\n",
       "      <td>1.02</td>\n",
       "      <td>0.49</td>\n",
       "      <td>8.50</td>\n",
       "      <td>0.430093</td>\n",
       "      <td>Urano</td>\n",
       "      <td>Saturno</td>\n",
       "      <td>Tierra</td>\n",
       "    </tr>\n",
       "    <tr>\n",
       "      <th>3</th>\n",
       "      <td>1.08</td>\n",
       "      <td>0.48</td>\n",
       "      <td>9.38</td>\n",
       "      <td>0.477431</td>\n",
       "      <td>Saturno</td>\n",
       "      <td>Tierra</td>\n",
       "      <td>Urano</td>\n",
       "    </tr>\n",
       "    <tr>\n",
       "      <th>4</th>\n",
       "      <td>0.91</td>\n",
       "      <td>0.45</td>\n",
       "      <td>8.99</td>\n",
       "      <td>0.498217</td>\n",
       "      <td>Saturno</td>\n",
       "      <td>Urano</td>\n",
       "      <td>Tierra</td>\n",
       "    </tr>\n",
       "    <tr>\n",
       "      <th>...</th>\n",
       "      <td>...</td>\n",
       "      <td>...</td>\n",
       "      <td>...</td>\n",
       "      <td>...</td>\n",
       "      <td>...</td>\n",
       "      <td>...</td>\n",
       "      <td>...</td>\n",
       "    </tr>\n",
       "    <tr>\n",
       "      <th>995</th>\n",
       "      <td>1.02</td>\n",
       "      <td>0.51</td>\n",
       "      <td>7.84</td>\n",
       "      <td>0.384468</td>\n",
       "      <td>Urano</td>\n",
       "      <td>Saturno</td>\n",
       "      <td>Tierra</td>\n",
       "    </tr>\n",
       "    <tr>\n",
       "      <th>996</th>\n",
       "      <td>0.98</td>\n",
       "      <td>0.41</td>\n",
       "      <td>11.66</td>\n",
       "      <td>0.687744</td>\n",
       "      <td>Neptuno</td>\n",
       "      <td>Tierra</td>\n",
       "      <td>Saturno</td>\n",
       "    </tr>\n",
       "    <tr>\n",
       "      <th>997</th>\n",
       "      <td>1.00</td>\n",
       "      <td>0.44</td>\n",
       "      <td>10.33</td>\n",
       "      <td>0.572878</td>\n",
       "      <td>Tierra</td>\n",
       "      <td>Neptuno</td>\n",
       "      <td>Saturno</td>\n",
       "    </tr>\n",
       "    <tr>\n",
       "      <th>998</th>\n",
       "      <td>0.95</td>\n",
       "      <td>0.40</td>\n",
       "      <td>11.87</td>\n",
       "      <td>0.718750</td>\n",
       "      <td>Neptuno</td>\n",
       "      <td>Tierra</td>\n",
       "      <td>Saturno</td>\n",
       "    </tr>\n",
       "    <tr>\n",
       "      <th>999</th>\n",
       "      <td>1.03</td>\n",
       "      <td>0.45</td>\n",
       "      <td>10.17</td>\n",
       "      <td>0.550892</td>\n",
       "      <td>Tierra</td>\n",
       "      <td>Neptuno</td>\n",
       "      <td>Saturno</td>\n",
       "    </tr>\n",
       "  </tbody>\n",
       "</table>\n",
       "<p>1000 rows × 7 columns</p>\n",
       "</div>"
      ],
      "text/plain": [
       "     Longitud (m)  Tiempo (s)  Gravedad (m/s^2)  Error Gravedad (m/s^2)  \\\n",
       "0            0.97        0.54              6.65                0.314993   \n",
       "1            0.95        0.49              7.91                0.406293   \n",
       "2            1.02        0.49              8.50                0.430093   \n",
       "3            1.08        0.48              9.38                0.477431   \n",
       "4            0.91        0.45              8.99                0.498217   \n",
       "..            ...         ...               ...                     ...   \n",
       "995          1.02        0.51              7.84                0.384468   \n",
       "996          0.98        0.41             11.66                0.687744   \n",
       "997          1.00        0.44             10.33                0.572878   \n",
       "998          0.95        0.40             11.87                0.718750   \n",
       "999          1.03        0.45             10.17                0.550892   \n",
       "\n",
       "    1º Planeta + Probable 2º Planeta + Probable 3º Planeta + Probable  \n",
       "0                   Urano               Saturno                 Marte  \n",
       "1                   Urano               Saturno                Tierra  \n",
       "2                   Urano               Saturno                Tierra  \n",
       "3                 Saturno                Tierra                 Urano  \n",
       "4                 Saturno                 Urano                Tierra  \n",
       "..                    ...                   ...                   ...  \n",
       "995                 Urano               Saturno                Tierra  \n",
       "996               Neptuno                Tierra               Saturno  \n",
       "997                Tierra               Neptuno               Saturno  \n",
       "998               Neptuno                Tierra               Saturno  \n",
       "999                Tierra               Neptuno               Saturno  \n",
       "\n",
       "[1000 rows x 7 columns]"
      ]
     },
     "execution_count": 100,
     "metadata": {},
     "output_type": "execute_result"
    }
   ],
   "source": [
    "\n",
    "fake = fk.Faker()\n",
    "\n",
    "def calcular_error_gravedad(l, t, delta_l, delta_t):\n",
    "    dg_dL = 2 / (t**2)\n",
    "    dg_dt = (-4 * l) / (t**3)\n",
    "    \n",
    "    error_gravedad = abs(dg_dL * delta_l) + abs(dg_dt * delta_t)\n",
    "    return error_gravedad\n",
    "\n",
    "def generar_datos(planetas, L_final, t_final):\n",
    "    L = round(rd.uniform(L_final - 0.1, L_final + 0.1), 2)\n",
    "    t = round(rd.uniform(t_final - 0.1, t_final + 0.1), 2)\n",
    "    gravedad = round((2 * L) / (t**2), 2)\n",
    "\n",
    "    planetas_cercanos = planetas_mas_probables(gravedad, planetas, n=3)\n",
    "\n",
    "    error_gravedad = calcular_error_gravedad(L, t, 0.01, 0.010)\n",
    "\n",
    "    return {\n",
    "        'Longitud (m)': L,\n",
    "        'Tiempo (s)': t,\n",
    "        'Gravedad (m/s^2)': gravedad,\n",
    "        'Error Gravedad (m/s^2)': error_gravedad,\n",
    "        '1º Planeta + Probable': planetas_cercanos[0],\n",
    "        '2º Planeta + Probable': planetas_cercanos[1],\n",
    "        '3º Planeta + Probable': planetas_cercanos[2]\n",
    "    }\n",
    "\n",
    "L1 = 1.00\n",
    "t1 = 0.46\n",
    "\n",
    "df_experimentos= pd.DataFrame([generar_datos(planetas_gravedad, L1, t1) for _ in range(1000)])\n",
    "\n",
    "df_experimentos\n"
   ]
  },
  {
   "cell_type": "markdown",
   "id": "73dd987d",
   "metadata": {},
   "source": [
    "## Tratamiento de los datos"
   ]
  },
  {
   "cell_type": "code",
   "execution_count": 86,
   "id": "055694f8",
   "metadata": {},
   "outputs": [
    {
     "name": "stdout",
     "output_type": "stream",
     "text": [
      "<class 'pandas.core.frame.DataFrame'>\n",
      "RangeIndex: 1000 entries, 0 to 999\n",
      "Data columns (total 7 columns):\n",
      " #   Column                  Non-Null Count  Dtype  \n",
      "---  ------                  --------------  -----  \n",
      " 0   Longitud (m)            1000 non-null   float64\n",
      " 1   Tiempo (s)              1000 non-null   float64\n",
      " 2   Gravedad (m/s^2)        1000 non-null   float64\n",
      " 3   Error Gravedad (m/s^2)  1000 non-null   float64\n",
      " 4   1º Planeta + Probable   1000 non-null   object \n",
      " 5   2º Planeta + Probable   1000 non-null   object \n",
      " 6   3º Planeta + Probable   1000 non-null   object \n",
      "dtypes: float64(4), object(3)\n",
      "memory usage: 54.8+ KB\n"
     ]
    }
   ],
   "source": [
    "df_experimentos.info()"
   ]
  },
  {
   "cell_type": "markdown",
   "id": "7d2b289f",
   "metadata": {},
   "source": [
    "utilizamos la biblioteca sklearn y creamos una nueva version del dataset llamada df_numérico ,donde las columnas de los planetas + probables serán transformadas en númerosm"
   ]
  },
  {
   "cell_type": "code",
   "execution_count": 87,
   "id": "53c24514",
   "metadata": {},
   "outputs": [
    {
     "data": {
      "text/html": [
       "<div>\n",
       "<style scoped>\n",
       "    .dataframe tbody tr th:only-of-type {\n",
       "        vertical-align: middle;\n",
       "    }\n",
       "\n",
       "    .dataframe tbody tr th {\n",
       "        vertical-align: top;\n",
       "    }\n",
       "\n",
       "    .dataframe thead th {\n",
       "        text-align: right;\n",
       "    }\n",
       "</style>\n",
       "<table border=\"1\" class=\"dataframe\">\n",
       "  <thead>\n",
       "    <tr style=\"text-align: right;\">\n",
       "      <th></th>\n",
       "      <th>Longitud (m)</th>\n",
       "      <th>Tiempo (s)</th>\n",
       "      <th>Gravedad (m/s^2)</th>\n",
       "      <th>Error Gravedad (m/s^2)</th>\n",
       "      <th>1º Planeta + Probable</th>\n",
       "      <th>2º Planeta + Probable</th>\n",
       "      <th>3º Planeta + Probable</th>\n",
       "    </tr>\n",
       "  </thead>\n",
       "  <tbody>\n",
       "    <tr>\n",
       "      <th>0</th>\n",
       "      <td>1.05</td>\n",
       "      <td>0.46</td>\n",
       "      <td>9.92</td>\n",
       "      <td>0.526013</td>\n",
       "      <td>3</td>\n",
       "      <td>2</td>\n",
       "      <td>1</td>\n",
       "    </tr>\n",
       "    <tr>\n",
       "      <th>1</th>\n",
       "      <td>0.98</td>\n",
       "      <td>0.42</td>\n",
       "      <td>11.11</td>\n",
       "      <td>0.642479</td>\n",
       "      <td>1</td>\n",
       "      <td>3</td>\n",
       "      <td>2</td>\n",
       "    </tr>\n",
       "    <tr>\n",
       "      <th>2</th>\n",
       "      <td>1.08</td>\n",
       "      <td>0.52</td>\n",
       "      <td>7.99</td>\n",
       "      <td>0.381202</td>\n",
       "      <td>4</td>\n",
       "      <td>2</td>\n",
       "      <td>3</td>\n",
       "    </tr>\n",
       "    <tr>\n",
       "      <th>3</th>\n",
       "      <td>1.08</td>\n",
       "      <td>0.37</td>\n",
       "      <td>15.78</td>\n",
       "      <td>0.998954</td>\n",
       "      <td>1</td>\n",
       "      <td>3</td>\n",
       "      <td>2</td>\n",
       "    </tr>\n",
       "    <tr>\n",
       "      <th>4</th>\n",
       "      <td>0.91</td>\n",
       "      <td>0.41</td>\n",
       "      <td>10.83</td>\n",
       "      <td>0.647118</td>\n",
       "      <td>1</td>\n",
       "      <td>3</td>\n",
       "      <td>2</td>\n",
       "    </tr>\n",
       "    <tr>\n",
       "      <th>...</th>\n",
       "      <td>...</td>\n",
       "      <td>...</td>\n",
       "      <td>...</td>\n",
       "      <td>...</td>\n",
       "      <td>...</td>\n",
       "      <td>...</td>\n",
       "      <td>...</td>\n",
       "    </tr>\n",
       "    <tr>\n",
       "      <th>995</th>\n",
       "      <td>0.97</td>\n",
       "      <td>0.41</td>\n",
       "      <td>11.54</td>\n",
       "      <td>0.681940</td>\n",
       "      <td>1</td>\n",
       "      <td>3</td>\n",
       "      <td>2</td>\n",
       "    </tr>\n",
       "    <tr>\n",
       "      <th>996</th>\n",
       "      <td>1.00</td>\n",
       "      <td>0.36</td>\n",
       "      <td>15.43</td>\n",
       "      <td>1.011660</td>\n",
       "      <td>1</td>\n",
       "      <td>3</td>\n",
       "      <td>2</td>\n",
       "    </tr>\n",
       "    <tr>\n",
       "      <th>997</th>\n",
       "      <td>0.92</td>\n",
       "      <td>0.46</td>\n",
       "      <td>8.70</td>\n",
       "      <td>0.472590</td>\n",
       "      <td>4</td>\n",
       "      <td>2</td>\n",
       "      <td>3</td>\n",
       "    </tr>\n",
       "    <tr>\n",
       "      <th>998</th>\n",
       "      <td>1.09</td>\n",
       "      <td>0.45</td>\n",
       "      <td>10.77</td>\n",
       "      <td>0.577229</td>\n",
       "      <td>1</td>\n",
       "      <td>3</td>\n",
       "      <td>2</td>\n",
       "    </tr>\n",
       "    <tr>\n",
       "      <th>999</th>\n",
       "      <td>0.91</td>\n",
       "      <td>0.54</td>\n",
       "      <td>6.24</td>\n",
       "      <td>0.299751</td>\n",
       "      <td>4</td>\n",
       "      <td>0</td>\n",
       "      <td>2</td>\n",
       "    </tr>\n",
       "  </tbody>\n",
       "</table>\n",
       "<p>1000 rows × 7 columns</p>\n",
       "</div>"
      ],
      "text/plain": [
       "     Longitud (m)  Tiempo (s)  Gravedad (m/s^2)  Error Gravedad (m/s^2)  \\\n",
       "0            1.05        0.46              9.92                0.526013   \n",
       "1            0.98        0.42             11.11                0.642479   \n",
       "2            1.08        0.52              7.99                0.381202   \n",
       "3            1.08        0.37             15.78                0.998954   \n",
       "4            0.91        0.41             10.83                0.647118   \n",
       "..            ...         ...               ...                     ...   \n",
       "995          0.97        0.41             11.54                0.681940   \n",
       "996          1.00        0.36             15.43                1.011660   \n",
       "997          0.92        0.46              8.70                0.472590   \n",
       "998          1.09        0.45             10.77                0.577229   \n",
       "999          0.91        0.54              6.24                0.299751   \n",
       "\n",
       "     1º Planeta + Probable  2º Planeta + Probable  3º Planeta + Probable  \n",
       "0                        3                      2                      1  \n",
       "1                        1                      3                      2  \n",
       "2                        4                      2                      3  \n",
       "3                        1                      3                      2  \n",
       "4                        1                      3                      2  \n",
       "..                     ...                    ...                    ...  \n",
       "995                      1                      3                      2  \n",
       "996                      1                      3                      2  \n",
       "997                      4                      2                      3  \n",
       "998                      1                      3                      2  \n",
       "999                      4                      0                      2  \n",
       "\n",
       "[1000 rows x 7 columns]"
      ]
     },
     "execution_count": 87,
     "metadata": {},
     "output_type": "execute_result"
    }
   ],
   "source": [
    "from sklearn.preprocessing import LabelEncoder                                                     \n",
    "df_numerico = df_experimentos.copy()\n",
    "\n",
    "encoder = LabelEncoder()\n",
    "# Transformamos las columnas de los planetas más probables en números\n",
    "for columna in ['1º Planeta + Probable', '2º Planeta + Probable', '3º Planeta + Probable']:\n",
    "    df_numerico[columna] = encoder.fit_transform(df_numerico[columna])\n",
    "\n",
    "df_numerico"
   ]
  },
  {
   "cell_type": "markdown",
   "id": "8517d283",
   "metadata": {},
   "source": [
    "ahora contamos el número de veces que se repite cada uno de los planetas en cada columna "
   ]
  },
  {
   "cell_type": "code",
   "execution_count": 93,
   "id": "79eb47aa",
   "metadata": {},
   "outputs": [
    {
     "name": "stdout",
     "output_type": "stream",
     "text": [
      " '1º Planeta + Probable':\n",
      "Saturno    462\n",
      "Tierra     395\n",
      "Urano       72\n",
      "Marte       53\n",
      "Neptuno     18\n",
      "Name: 3º Planeta + Probable, dtype: int64\n",
      "\n",
      "\n",
      " '2º Planeta + Probable':\n",
      "Saturno    462\n",
      "Tierra     395\n",
      "Urano       72\n",
      "Marte       53\n",
      "Neptuno     18\n",
      "Name: 3º Planeta + Probable, dtype: int64\n",
      "\n",
      "\n",
      " '3º Planeta + Probable':\n",
      "Saturno    462\n",
      "Tierra     395\n",
      "Urano       72\n",
      "Marte       53\n",
      "Neptuno     18\n",
      "Name: 3º Planeta + Probable, dtype: int64\n",
      "\n",
      "\n"
     ]
    }
   ],
   "source": [
    "columnas_planetas = ['1º Planeta + Probable', '2º Planeta + Probable', '3º Planeta + Probable']\n",
    "\n",
    "for columna in columnas_planetas:\n",
    "    contar_planetas = df_experimentos[columna].value_counts()\n",
    "    print(f\" '{columna}':\")\n",
    "    print(conteo_planetas)\n",
    "    print(\"\\n\")\n",
    "\n"
   ]
  },
  {
   "cell_type": "code",
   "execution_count": 98,
   "id": "9bd51866",
   "metadata": {},
   "outputs": [
    {
     "data": {
      "image/png": "[encoded data removed]",
      "text/plain": [
       "<Figure size 640x480 with 1 Axes>"
      ]
     },
     "metadata": {},
     "output_type": "display_data"
    },
    {
     "data": {
      "image/png": "[encoded data removed]",
      "text/plain": [
       "<Figure size 640x480 with 1 Axes>"
      ]
     },
     "metadata": {},
     "output_type": "display_data"
    },
    {
     "data": {
      "image/png": "[encoded data removed]",
      "text/plain": [
       "<Figure size 640x480 with 1 Axes>"
      ]
     },
     "metadata": {},
     "output_type": "display_data"
    }
   ],
   "source": [
    "\n",
    "columnas_planetas = ['1º Planeta + Probable', '2º Planeta + Probable', '3º Planeta + Probable']\n",
    "colores = ['blue', 'green', 'orange']\n",
    "\n",
    "for columna, color in zip(columnas_planetas, colores):\n",
    "    contar_planetas = df_experimentos[columna].value_counts()\n",
    "    \n",
    "    plt.figure()\n",
    "    conteo_planetas.plot(kind='bar', color=color)\n",
    "    plt.title(f\"'{columna}'\")\n",
    "    plt.xlabel('Planetas')\n",
    "    plt.ylabel('Frecuencia')\n",
    "    plt.show()\n",
    "\n"
   ]
  },
  {
   "cell_type": "markdown",
   "id": "218cbde9",
   "metadata": {},
   "source": [
    "Con ello podemos cocluir que lo más probable es que los astronautas estén en Saturno"
   ]
  },
  {
   "cell_type": "markdown",
   "id": "52b5ae10",
   "metadata": {},
   "source": [
    "𝙝𝙞𝙨𝙩𝙤𝙜𝙧𝙖𝙢𝙖 𝙥𝙖𝙧𝙖 𝙘𝙖𝙙𝙖 𝙫𝙖𝙧𝙞𝙖𝙗𝙡𝙚"
   ]
  },
  {
   "cell_type": "code",
   "execution_count": 101,
   "id": "639a4b80",
   "metadata": {},
   "outputs": [
    {
     "data": {
      "image/png": "[encoded data removed]",
      "text/plain": [
       "<Figure size 640x480 with 1 Axes>"
      ]
     },
     "metadata": {},
     "output_type": "display_data"
    },
    {
     "data": {
      "image/png": "[encoded data removed]",
      "text/plain": [
       "<Figure size 640x480 with 1 Axes>"
      ]
     },
     "metadata": {},
     "output_type": "display_data"
    },
    {
     "data": {
      "image/png": "[encoded data removed]",
      "text/plain": [
       "<Figure size 640x480 with 1 Axes>"
      ]
     },
     "metadata": {},
     "output_type": "display_data"
    }
   ],
   "source": [
    "# Longitud \n",
    "plt.hist(df_experimentos['Longitud (m)'], bins=20, color='red')\n",
    "plt.title('Distribución de Longitud (m)')\n",
    "plt.xlabel('Longitud (m)')\n",
    "plt.ylabel('Frecuencia')\n",
    "plt.show()\n",
    "\n",
    "#  Tiempo \n",
    "plt.hist(df_experimentos['Tiempo (s)'], bins=20, color='blue')\n",
    "plt.title('Distribución de Tiempo (s)')\n",
    "plt.xlabel('Tiempo (s)')\n",
    "plt.ylabel('Frecuencia')\n",
    "plt.show()\n",
    "\n",
    "#  Gravedad \n",
    "plt.hist(df_experimentos['Gravedad (m/s^2)'], bins=20, color='green')\n",
    "plt.title('Distribución de Gravedad (m/s^2)')\n",
    "plt.xlabel('Gravedad (m/s^2)')\n",
    "plt.ylabel('Frecuencia')\n",
    "plt.show()\n",
    "\n",
    "\n"
   ]
  },
  {
   "cell_type": "markdown",
   "id": "2b5ee5e9",
   "metadata": {},
   "source": [
    "𝙢𝙖𝙩𝙧𝙞𝙯 𝙙𝙚 𝙘𝙤𝙣𝙛𝙪𝙨𝙞𝙤́𝙣 𝙥𝙖𝙧𝙖 𝙚𝙡 𝙥𝙡𝙖𝙣𝙚𝙩𝙖 + 𝙥𝙧𝙤𝙗𝙖𝙗𝙡𝙚"
   ]
  },
  {
   "cell_type": "code",
   "execution_count": 103,
   "id": "15510cc8",
   "metadata": {},
   "outputs": [
    {
     "data": {
      "image/png": "[encoded data removed]",
      "text/plain": [
       "<Figure size 640x480 with 2 Axes>"
      ]
     },
     "metadata": {},
     "output_type": "display_data"
    }
   ],
   "source": [
    "df_experimentos['1º Planeta + Probable'] = encoder.fit_transform(df_experimentos['1º Planeta + Probable'])\n",
    "\n",
    "# Crear matriz de confusión para 1º Planeta + Probable\n",
    "y_true = df_experimentos['1º Planeta + Probable']\n",
    "y_pred = df_numerico['1º Planeta + Probable']\n",
    "\n",
    "cm = confusion_matrix(y_true, y_pred)\n",
    "\n",
    "sns.heatmap(cm, annot=True, cmap='Blues', fmt='g')\n",
    "plt.xlabel('Predicción')\n",
    "plt.ylabel('Valor Real')\n",
    "plt.title('Matriz de Confusión para 1º Planeta + Probable')\n",
    "plt.show()\n"
   ]
  }
 ],
 "metadata": {
  "kernelspec": {
   "display_name": "Python 3 (ipykernel)",
   "language": "python",
   "name": "python3"
  },
  "language_info": {
   "codemirror_mode": {
    "name": "ipython",
    "version": 3
   },
   "file_extension": ".py",
   "mimetype": "text/x-python",
   "name": "python",
   "nbconvert_exporter": "python",
   "pygments_lexer": "ipython3",
   "version": "3.10.9"
  }
 },
 "nbformat": 4,
 "nbformat_minor": 5
}
